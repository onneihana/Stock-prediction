{
 "cells": [
  {
   "cell_type": "code",
   "execution_count": 1,
   "metadata": {},
   "outputs": [
    {
     "name": "stderr",
     "output_type": "stream",
     "text": [
      "Using TensorFlow backend.\n",
      "C:\\Users\\vucht\\anaconda3\\lib\\site-packages\\tensorflow\\python\\framework\\dtypes.py:516: FutureWarning: Passing (type, 1) or '1type' as a synonym of type is deprecated; in a future version of numpy, it will be understood as (type, (1,)) / '(1,)type'.\n",
      "  _np_qint8 = np.dtype([(\"qint8\", np.int8, 1)])\n",
      "C:\\Users\\vucht\\anaconda3\\lib\\site-packages\\tensorflow\\python\\framework\\dtypes.py:517: FutureWarning: Passing (type, 1) or '1type' as a synonym of type is deprecated; in a future version of numpy, it will be understood as (type, (1,)) / '(1,)type'.\n",
      "  _np_quint8 = np.dtype([(\"quint8\", np.uint8, 1)])\n",
      "C:\\Users\\vucht\\anaconda3\\lib\\site-packages\\tensorflow\\python\\framework\\dtypes.py:518: FutureWarning: Passing (type, 1) or '1type' as a synonym of type is deprecated; in a future version of numpy, it will be understood as (type, (1,)) / '(1,)type'.\n",
      "  _np_qint16 = np.dtype([(\"qint16\", np.int16, 1)])\n",
      "C:\\Users\\vucht\\anaconda3\\lib\\site-packages\\tensorflow\\python\\framework\\dtypes.py:519: FutureWarning: Passing (type, 1) or '1type' as a synonym of type is deprecated; in a future version of numpy, it will be understood as (type, (1,)) / '(1,)type'.\n",
      "  _np_quint16 = np.dtype([(\"quint16\", np.uint16, 1)])\n",
      "C:\\Users\\vucht\\anaconda3\\lib\\site-packages\\tensorflow\\python\\framework\\dtypes.py:520: FutureWarning: Passing (type, 1) or '1type' as a synonym of type is deprecated; in a future version of numpy, it will be understood as (type, (1,)) / '(1,)type'.\n",
      "  _np_qint32 = np.dtype([(\"qint32\", np.int32, 1)])\n",
      "C:\\Users\\vucht\\anaconda3\\lib\\site-packages\\tensorflow\\python\\framework\\dtypes.py:525: FutureWarning: Passing (type, 1) or '1type' as a synonym of type is deprecated; in a future version of numpy, it will be understood as (type, (1,)) / '(1,)type'.\n",
      "  np_resource = np.dtype([(\"resource\", np.ubyte, 1)])\n",
      "C:\\Users\\vucht\\anaconda3\\lib\\site-packages\\tensorboard\\compat\\tensorflow_stub\\dtypes.py:541: FutureWarning: Passing (type, 1) or '1type' as a synonym of type is deprecated; in a future version of numpy, it will be understood as (type, (1,)) / '(1,)type'.\n",
      "  _np_qint8 = np.dtype([(\"qint8\", np.int8, 1)])\n",
      "C:\\Users\\vucht\\anaconda3\\lib\\site-packages\\tensorboard\\compat\\tensorflow_stub\\dtypes.py:542: FutureWarning: Passing (type, 1) or '1type' as a synonym of type is deprecated; in a future version of numpy, it will be understood as (type, (1,)) / '(1,)type'.\n",
      "  _np_quint8 = np.dtype([(\"quint8\", np.uint8, 1)])\n",
      "C:\\Users\\vucht\\anaconda3\\lib\\site-packages\\tensorboard\\compat\\tensorflow_stub\\dtypes.py:543: FutureWarning: Passing (type, 1) or '1type' as a synonym of type is deprecated; in a future version of numpy, it will be understood as (type, (1,)) / '(1,)type'.\n",
      "  _np_qint16 = np.dtype([(\"qint16\", np.int16, 1)])\n",
      "C:\\Users\\vucht\\anaconda3\\lib\\site-packages\\tensorboard\\compat\\tensorflow_stub\\dtypes.py:544: FutureWarning: Passing (type, 1) or '1type' as a synonym of type is deprecated; in a future version of numpy, it will be understood as (type, (1,)) / '(1,)type'.\n",
      "  _np_quint16 = np.dtype([(\"quint16\", np.uint16, 1)])\n",
      "C:\\Users\\vucht\\anaconda3\\lib\\site-packages\\tensorboard\\compat\\tensorflow_stub\\dtypes.py:545: FutureWarning: Passing (type, 1) or '1type' as a synonym of type is deprecated; in a future version of numpy, it will be understood as (type, (1,)) / '(1,)type'.\n",
      "  _np_qint32 = np.dtype([(\"qint32\", np.int32, 1)])\n",
      "C:\\Users\\vucht\\anaconda3\\lib\\site-packages\\tensorboard\\compat\\tensorflow_stub\\dtypes.py:550: FutureWarning: Passing (type, 1) or '1type' as a synonym of type is deprecated; in a future version of numpy, it will be understood as (type, (1,)) / '(1,)type'.\n",
      "  np_resource = np.dtype([(\"resource\", np.ubyte, 1)])\n",
      "C:\\Users\\vucht\\anaconda3\\lib\\site-packages\\pandas_datareader\\compat\\__init__.py:7: FutureWarning: pandas.util.testing is deprecated. Use the functions in the public API at pandas.testing instead.\n",
      "  from pandas.util.testing import assert_frame_equal\n"
     ]
    }
   ],
   "source": [
    "import pandas as pd\n",
    "import numpy as np\n",
    "from datetime import datetime, timedelta\n",
    "import matplotlib.pyplot as plt\n",
    "\n",
    "from matplotlib.pylab import rcParams\n",
    "rcParams['figure.figsize']=20,10\n",
    "\n",
    "from keras.models import Sequential\n",
    "from keras.layers import Dense, Dropout, LSTM, Input, Activation, concatenate\n",
    "from keras import optimizers\n",
    "from keras.models import Model\n",
    "from pandas_datareader import data as wb\n",
    "from sklearn.preprocessing import MinMaxScaler\n",
    "from sklearn.model_selection import train_test_split"
   ]
  },
  {
   "cell_type": "code",
   "execution_count": 2,
   "metadata": {},
   "outputs": [],
   "source": [
    "n = 120\n",
    "n_day = 5\n",
    "ticker =  'OUT1V.HE'\n",
    "start = '2013-1-1'\n",
    "end = '2020-07-15'\n",
    "t = datetime.strptime(end, '%Y-%m-%d').date()+ timedelta(days = n)\n",
    "end_predict = t.strftime(\"%Y-%m-%d\")\n",
    "k=60\n",
    "data = pd.DataFrame()\n",
    "data = wb.DataReader(ticker, data_source = 'yahoo', start = start, end = end)\n",
    "feature = data.iloc[:,0:5]\n",
    "feature1 = np.array([np.mean(data[\"Adj Close\"].values[i:i+n_day]) for i in range(len(data)-n_day)])\n",
    "feature2 = np.array([np.mean(data[\"Close\"].values[i:i+k]) for i in range(len(data)-k)])\n",
    "price = data[\"Adj Close\"].values"
   ]
  },
  {
   "cell_type": "code",
   "execution_count": 3,
   "metadata": {},
   "outputs": [],
   "source": [
    "x_norm = MinMaxScaler()\n",
    "x_norm.fit(feature)\n",
    "X = x_norm.transform(feature)\n",
    "\n",
    "y_norm = MinMaxScaler()\n",
    "y_norm.fit(price.reshape(-1,1))\n",
    "y = y_norm.transform(price.reshape(-1,1))\n",
    "\n",
    "x1_norm = MinMaxScaler()\n",
    "x1_norm.fit(feature1.reshape(-1,1))\n",
    "X1 = x1_norm.transform(feature1.reshape(-1,1))\n",
    "\n",
    "x2_norm = MinMaxScaler()\n",
    "x2_norm.fit(feature2.reshape(-1,1))\n",
    "X2 = x2_norm.transform(feature2.reshape(-1,1))"
   ]
  },
  {
   "cell_type": "code",
   "execution_count": 4,
   "metadata": {},
   "outputs": [],
   "source": [
    "X = np.array([X[i:k+i] for i in range(len(X)-k)])\n",
    "X1 = np.array([X1[k+i-n_day] for i in range(len(X1)-k+n_day)])\n",
    "X2 = np.array(X2)\n",
    "y = np.array([y[k+i] for i in range(len(y)-k)])"
   ]
  },
  {
   "cell_type": "code",
   "execution_count": 5,
   "metadata": {},
   "outputs": [],
   "source": [
    "n = int(len(X)*0.8)\n",
    "x_train = X[:n]\n",
    "x_test = X[n:]\n",
    "y_train = y[:n]\n",
    "y_test = y[n:]\n",
    "x1_train = X1[:n]\n",
    "x1_test = X1[n:]\n",
    "x2_train = X2[:n]\n",
    "x2_test = X2[n:]"
   ]
  },
  {
   "cell_type": "code",
   "execution_count": 6,
   "metadata": {},
   "outputs": [],
   "source": [
    "# define two sets of inputs\n",
    "lstm_input = Input(shape=(k, 5), name='lstm_input')\n",
    "dense_input = Input(shape=(X1.shape[1],), name='tech_input')\n",
    " \n",
    "# the first branch operates on the first input\n",
    "a = LSTM(50, name='lstm_0')(lstm_input)\n",
    "a = Dropout(0.2, name='lstm_dropout_0')(a)\n",
    "lstm_branch = Model(inputs=lstm_input, outputs=a)\n",
    " \n",
    "# the second branch opreates on the second input\n",
    "b = Dense(20, name='tech_dense_0')(dense_input)\n",
    "b = Activation(\"relu\", name='tech_relu_0')(b)\n",
    "b = Dropout(0.2, name='tech_dropout_0')(b)\n",
    "technical_indicators_branch = Model(inputs=dense_input, outputs=b)\n",
    " \n",
    "# combine the output of the two branches\n",
    "combined = concatenate([lstm_branch.output, technical_indicators_branch.output], name='concatenate')\n",
    " \n",
    "c = Dense(64, activation=\"sigmoid\", name='dense_pooling')(combined)\n",
    "c = Dense(1, activation=\"linear\", name='dense_out')(c)\n",
    " \n",
    "# our model will accept the inputs of the two branches and then output a single value\n",
    "model1 = Model(inputs=[lstm_branch.input, technical_indicators_branch.input], outputs=c)\n",
    "\n",
    "adam = optimizers.Adam(lr=0.0005)\n",
    "\n",
    "model1.compile(optimizer=adam,\n",
    "              loss='mse')"
   ]
  },
  {
   "cell_type": "code",
   "execution_count": 7,
   "metadata": {},
   "outputs": [
    {
     "name": "stdout",
     "output_type": "stream",
     "text": [
      "WARNING:tensorflow:From C:\\Users\\vucht\\anaconda3\\lib\\site-packages\\keras\\backend\\tensorflow_backend.py:422: The name tf.global_variables is deprecated. Please use tf.compat.v1.global_variables instead.\n",
      "\n"
     ]
    },
    {
     "data": {
      "text/plain": [
       "<keras.callbacks.callbacks.History at 0x1efdfd42e48>"
      ]
     },
     "execution_count": 7,
     "metadata": {},
     "output_type": "execute_result"
    }
   ],
   "source": [
    "model1.fit(x=[x_train, x2_train], y=y_train, batch_size=32, epochs=50, verbose = 0, shuffle=True, validation_split=0.1)"
   ]
  },
  {
   "cell_type": "markdown",
   "metadata": {},
   "source": [
    "y_predicted = model1.predict([x_test,x2_test])\n",
    "f1 = y_norm.inverse_transform(y_predicted)"
   ]
  },
  {
   "cell_type": "markdown",
   "metadata": {},
   "source": [
    "y_real = y_norm.inverse_transform(y_test)\n",
    "plt.gcf().set_size_inches(22, 15, forward=True)\n",
    "\n",
    "start = 0\n",
    "end = -1\n",
    "\n",
    "real = plt.plot(y_real[start:end], label='real')\n",
    "pred1 = plt.plot(f1[start:end], label='F1')\n",
    "plt.legend(['Real', 'F1'])\n",
    "\n",
    "plt.show()"
   ]
  },
  {
   "cell_type": "code",
   "execution_count": 8,
   "metadata": {},
   "outputs": [],
   "source": [
    "x_date = X[-4:]\n",
    "x2_date = X2[-4:]"
   ]
  },
  {
   "cell_type": "code",
   "execution_count": 9,
   "metadata": {},
   "outputs": [
    {
     "name": "stdout",
     "output_type": "stream",
     "text": [
      "[[2.2495937]\n",
      " [2.232863 ]\n",
      " [2.236729 ]\n",
      " [2.2358243]]\n"
     ]
    }
   ],
   "source": [
    "y_date_predicted = model1.predict([x_date,x2_date])\n",
    "y_date_predicted\n",
    "print(y_norm.inverse_transform(y_date_predicted))"
   ]
  },
  {
   "cell_type": "code",
   "execution_count": 10,
   "metadata": {},
   "outputs": [],
   "source": [
    "model2 = Model(inputs=[lstm_branch.input, technical_indicators_branch.input], outputs=c)\n",
    "\n",
    "adam = optimizers.Adam(lr=0.0005)\n",
    "\n",
    "model2.compile(optimizer=adam,\n",
    "              loss='mse')\n"
   ]
  },
  {
   "cell_type": "code",
   "execution_count": 11,
   "metadata": {},
   "outputs": [
    {
     "data": {
      "text/plain": [
       "<keras.callbacks.callbacks.History at 0x1efe3b56208>"
      ]
     },
     "execution_count": 11,
     "metadata": {},
     "output_type": "execute_result"
    }
   ],
   "source": [
    "model2.fit(x=[x_train, x2_train], y=y_train, batch_size=8, verbose = 0, epochs=50, shuffle=True, validation_split=0.1)"
   ]
  },
  {
   "cell_type": "markdown",
   "metadata": {},
   "source": [
    "y_predicted = model2.predict([x_test,x2_test])\n",
    "f2 = y_norm.inverse_transform(y_predicted)"
   ]
  },
  {
   "cell_type": "markdown",
   "metadata": {},
   "source": [
    "y_real = y_norm.inverse_transform(y_test)\n",
    "plt.gcf().set_size_inches(22, 15, forward=True)\n",
    "\n",
    "start = 0\n",
    "end = -1\n",
    "\n",
    "real = plt.plot(y_real[start:end], label='real')\n",
    "#pred1= plt.plot(f1[start:end], label='F1')\n",
    "pred2 = plt.plot(f2[start:end], label='F2')\n",
    "plt.legend(['Real', 'F2'])\n",
    "\n",
    "plt.show()"
   ]
  },
  {
   "cell_type": "code",
   "execution_count": 12,
   "metadata": {},
   "outputs": [],
   "source": [
    "x_date = X[-4:]\n",
    "x2_date = X2[-4:]"
   ]
  },
  {
   "cell_type": "code",
   "execution_count": 13,
   "metadata": {},
   "outputs": [
    {
     "name": "stdout",
     "output_type": "stream",
     "text": [
      "[[1.903331 ]\n",
      " [1.8535339]\n",
      " [1.918528 ]\n",
      " [1.8948383]]\n"
     ]
    }
   ],
   "source": [
    "y_date_predicted = model2.predict([x_date,x2_date])\n",
    "y_date_predicted\n",
    "print(y_norm.inverse_transform(y_date_predicted))"
   ]
  },
  {
   "cell_type": "code",
   "execution_count": 14,
   "metadata": {},
   "outputs": [],
   "source": [
    "model3 = Model(inputs=[lstm_branch.input, technical_indicators_branch.input], outputs=c)\n",
    "\n",
    "adam = optimizers.Adam(lr=0.0005)\n",
    "\n",
    "model3.compile(optimizer=adam,\n",
    "              loss='mse')\n"
   ]
  },
  {
   "cell_type": "code",
   "execution_count": 15,
   "metadata": {},
   "outputs": [
    {
     "name": "stdout",
     "output_type": "stream",
     "text": [
      "Train on 1316 samples, validate on 147 samples\n",
      "Epoch 1/50\n",
      " - 17s - loss: 0.0013 - val_loss: 0.0029\n",
      "Epoch 2/50\n",
      " - 18s - loss: 0.0013 - val_loss: 3.4105e-04\n",
      "Epoch 3/50\n",
      " - 17s - loss: 0.0012 - val_loss: 3.3080e-04\n",
      "Epoch 4/50\n",
      " - 18s - loss: 0.0014 - val_loss: 4.3745e-04\n",
      "Epoch 5/50\n",
      " - 18s - loss: 0.0012 - val_loss: 0.0019\n",
      "Epoch 6/50\n",
      " - 15s - loss: 0.0012 - val_loss: 0.0019\n",
      "Epoch 7/50\n",
      " - 15s - loss: 0.0012 - val_loss: 3.3722e-04\n",
      "Epoch 8/50\n",
      " - 15s - loss: 0.0012 - val_loss: 0.0016\n",
      "Epoch 9/50\n",
      " - 15s - loss: 0.0013 - val_loss: 0.0017\n",
      "Epoch 10/50\n",
      " - 15s - loss: 0.0012 - val_loss: 0.0024\n",
      "Epoch 11/50\n",
      " - 15s - loss: 0.0013 - val_loss: 0.0022\n",
      "Epoch 12/50\n",
      " - 15s - loss: 0.0012 - val_loss: 9.9600e-04\n",
      "Epoch 13/50\n",
      " - 15s - loss: 0.0011 - val_loss: 4.7172e-04\n",
      "Epoch 14/50\n",
      " - 15s - loss: 0.0013 - val_loss: 9.4273e-04\n",
      "Epoch 15/50\n",
      " - 15s - loss: 0.0012 - val_loss: 3.2477e-04\n",
      "Epoch 16/50\n",
      " - 15s - loss: 0.0013 - val_loss: 0.0011\n",
      "Epoch 17/50\n",
      " - 15s - loss: 0.0013 - val_loss: 8.9960e-04\n",
      "Epoch 18/50\n",
      " - 15s - loss: 0.0011 - val_loss: 3.5844e-04\n",
      "Epoch 19/50\n",
      " - 15s - loss: 0.0011 - val_loss: 0.0030\n",
      "Epoch 20/50\n",
      " - 15s - loss: 0.0012 - val_loss: 4.2338e-04\n",
      "Epoch 21/50\n",
      " - 15s - loss: 0.0013 - val_loss: 7.6469e-04\n",
      "Epoch 22/50\n",
      " - 15s - loss: 0.0011 - val_loss: 6.9746e-04\n",
      "Epoch 23/50\n",
      " - 15s - loss: 0.0011 - val_loss: 0.0018\n",
      "Epoch 24/50\n",
      " - 15s - loss: 0.0011 - val_loss: 9.8717e-04\n",
      "Epoch 25/50\n",
      " - 15s - loss: 0.0012 - val_loss: 0.0012\n",
      "Epoch 26/50\n",
      " - 15s - loss: 0.0011 - val_loss: 9.6302e-04\n",
      "Epoch 27/50\n",
      " - 15s - loss: 0.0012 - val_loss: 0.0029\n",
      "Epoch 28/50\n",
      " - 15s - loss: 0.0011 - val_loss: 9.4075e-04\n",
      "Epoch 29/50\n",
      " - 15s - loss: 0.0011 - val_loss: 3.5494e-04\n",
      "Epoch 30/50\n",
      " - 15s - loss: 0.0013 - val_loss: 0.0016\n",
      "Epoch 31/50\n",
      " - 15s - loss: 0.0012 - val_loss: 3.7216e-04\n",
      "Epoch 32/50\n",
      " - 15s - loss: 0.0012 - val_loss: 0.0018\n",
      "Epoch 33/50\n",
      " - 15s - loss: 0.0012 - val_loss: 2.9654e-04\n",
      "Epoch 34/50\n",
      " - 15s - loss: 0.0012 - val_loss: 9.0467e-04\n",
      "Epoch 35/50\n",
      " - 15s - loss: 0.0011 - val_loss: 4.7993e-04\n",
      "Epoch 36/50\n",
      " - 15s - loss: 0.0011 - val_loss: 0.0016\n",
      "Epoch 37/50\n",
      " - 15s - loss: 0.0012 - val_loss: 6.3741e-04\n",
      "Epoch 38/50\n",
      " - 15s - loss: 0.0012 - val_loss: 0.0016\n",
      "Epoch 39/50\n",
      " - 15s - loss: 0.0012 - val_loss: 0.0021\n",
      "Epoch 40/50\n",
      " - 16s - loss: 0.0012 - val_loss: 2.8652e-04\n",
      "Epoch 41/50\n",
      " - 17s - loss: 0.0011 - val_loss: 4.2453e-04\n",
      "Epoch 42/50\n",
      " - 17s - loss: 0.0012 - val_loss: 9.7179e-04\n",
      "Epoch 43/50\n",
      " - 18s - loss: 0.0012 - val_loss: 0.0034\n",
      "Epoch 44/50\n",
      " - 18s - loss: 0.0012 - val_loss: 7.1567e-04\n",
      "Epoch 45/50\n",
      " - 17s - loss: 0.0011 - val_loss: 7.4480e-04\n",
      "Epoch 46/50\n",
      " - 17s - loss: 0.0011 - val_loss: 0.0010\n",
      "Epoch 47/50\n",
      " - 16s - loss: 0.0012 - val_loss: 0.0013\n",
      "Epoch 48/50\n",
      " - 18s - loss: 0.0011 - val_loss: 3.2753e-04\n",
      "Epoch 49/50\n",
      " - 16s - loss: 0.0012 - val_loss: 0.0014\n",
      "Epoch 50/50\n",
      " - 17s - loss: 0.0011 - val_loss: 3.4856e-04\n"
     ]
    },
    {
     "data": {
      "text/plain": [
       "<keras.callbacks.callbacks.History at 0x1efe74b21c8>"
      ]
     },
     "execution_count": 15,
     "metadata": {},
     "output_type": "execute_result"
    }
   ],
   "source": [
    "model3.fit(x=[x_train, x2_train], y=y_train, batch_size=2, verbose = 2, epochs=50, shuffle=True, validation_split=0.1)"
   ]
  },
  {
   "cell_type": "markdown",
   "metadata": {},
   "source": [
    "y_predicted = model3.predict([x_test,x2_test])\n",
    "f3 = y_norm.inverse_transform(y_predicted)"
   ]
  },
  {
   "cell_type": "markdown",
   "metadata": {},
   "source": [
    "y_real = y_norm.inverse_transform(y_test)\n",
    "plt.gcf().set_size_inches(22, 15, forward=True)\n",
    "\n",
    "start = 0\n",
    "end = -1\n",
    "\n",
    "real = plt.plot(y_real[start:end], label='real')\n",
    "#pred1= plt.plot(f1[start:end], label='F1')\n",
    "pred2 = plt.plot(f3[start:end], label='F3')\n",
    "plt.legend(['Real', 'F3'])\n",
    "\n",
    "plt.show()"
   ]
  },
  {
   "cell_type": "code",
   "execution_count": 16,
   "metadata": {},
   "outputs": [],
   "source": [
    "x_date = X[-4:]\n",
    "x2_date = X2[-4:]"
   ]
  },
  {
   "cell_type": "code",
   "execution_count": 17,
   "metadata": {},
   "outputs": [
    {
     "name": "stdout",
     "output_type": "stream",
     "text": [
      "[[2.2553132]\n",
      " [2.1979995]\n",
      " [2.2955647]\n",
      " [2.232114 ]]\n"
     ]
    }
   ],
   "source": [
    "y_date_predicted = model2.predict([x_date,x2_date])\n",
    "y_date_predicted\n",
    "print(y_norm.inverse_transform(y_date_predicted))"
   ]
  }
 ],
 "metadata": {
  "kernelspec": {
   "display_name": "Python 3",
   "language": "python",
   "name": "python3"
  },
  "language_info": {
   "codemirror_mode": {
    "name": "ipython",
    "version": 3
   },
   "file_extension": ".py",
   "mimetype": "text/x-python",
   "name": "python",
   "nbconvert_exporter": "python",
   "pygments_lexer": "ipython3",
   "version": "3.7.6"
  }
 },
 "nbformat": 4,
 "nbformat_minor": 4
}
